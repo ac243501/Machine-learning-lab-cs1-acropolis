{
  "nbformat": 4,
  "nbformat_minor": 0,
  "metadata": {
    "kernelspec": {
      "display_name": "Python 3",
      "language": "python",
      "name": "python3"
    },
    "language_info": {
      "codemirror_mode": {
        "name": "ipython",
        "version": 3
      },
      "file_extension": ".py",
      "mimetype": "text/x-python",
      "name": "python",
      "nbconvert_exporter": "python",
      "pygments_lexer": "ipython3",
      "version": "3.7.3"
    },
    "colab": {
      "name": "Copy of LR_SKLEARN.ipynb",
      "provenance": [],
      "collapsed_sections": []
    }
  },
  "cells": [
    {
      "cell_type": "code",
      "metadata": {
        "id": "Ayzj2PTp9pcc",
        "colab_type": "code",
        "colab": {}
      },
      "source": [
        "import pandas as pd\n",
        "import numpy as np\n",
        "import matplotlib.pyplot as plt"
      ],
      "execution_count": 0,
      "outputs": []
    },
    {
      "cell_type": "markdown",
      "metadata": {
        "id": "ouTG8Tvb9pck",
        "colab_type": "text"
      },
      "source": [
        "PREPARING THE DATASET"
      ]
    },
    {
      "cell_type": "code",
      "metadata": {
        "id": "j76ojSvH9pcm",
        "colab_type": "code",
        "colab": {
          "base_uri": "https://localhost:8080/",
          "height": 374
        },
        "outputId": "cf32778e-dad1-4001-bbe9-eb385edba790"
      },
      "source": [
        "# intialise data of lists. \n",
        "data = {'passenger':[892,893,894,895,896,897,898,899,900,901,902,903,904,905,905,906,907,908,909,910], \n",
        "        'Scores':[0,1,0,0,1,0,1,0,1,0,0,0,1,0,1,1,0,0,1,0]} \n",
        "  \n",
        "# Create DataFrame \n",
        "passenger = pd.DataFrame(data) \n",
        "  \n",
        "# Print the output. \n",
        "print(passenger)"
      ],
      "execution_count": 2,
      "outputs": [
        {
          "output_type": "stream",
          "text": [
            "    passenger  Scores\n",
            "0         892       0\n",
            "1         893       1\n",
            "2         894       0\n",
            "3         895       0\n",
            "4         896       1\n",
            "5         897       0\n",
            "6         898       1\n",
            "7         899       0\n",
            "8         900       1\n",
            "9         901       0\n",
            "10        902       0\n",
            "11        903       0\n",
            "12        904       1\n",
            "13        905       0\n",
            "14        905       1\n",
            "15        906       1\n",
            "16        907       0\n",
            "17        908       0\n",
            "18        909       1\n",
            "19        910       0\n"
          ],
          "name": "stdout"
        }
      ]
    },
    {
      "cell_type": "markdown",
      "metadata": {
        "id": "Xc2RcBQF9pcs",
        "colab_type": "text"
      },
      "source": [
        "SEPARATING THE DEPENDENT AND INDEPENDENT VARIABLES"
      ]
    },
    {
      "cell_type": "code",
      "metadata": {
        "id": "VrEJjZbh9pct",
        "colab_type": "code",
        "colab": {
          "base_uri": "https://localhost:8080/",
          "height": 357
        },
        "outputId": "0d70d0ca-5372-4565-a2f6-9d608b329430"
      },
      "source": [
        "X = passenger.iloc[ : ,   : 1 ].values\n",
        "Y = passenger.iloc[ : , -1 ].values\n"
      ],
      "execution_count": 7,
      "outputs": [
        {
          "output_type": "stream",
          "text": [
            "[[892]\n",
            " [893]\n",
            " [894]\n",
            " [895]\n",
            " [896]\n",
            " [897]\n",
            " [898]\n",
            " [899]\n",
            " [900]\n",
            " [901]\n",
            " [902]\n",
            " [903]\n",
            " [904]\n",
            " [905]\n",
            " [905]\n",
            " [906]\n",
            " [907]\n",
            " [908]\n",
            " [909]\n",
            " [910]]\n"
          ],
          "name": "stdout"
        }
      ]
    },
    {
      "cell_type": "code",
      "metadata": {
        "id": "XxGwO_zAh8vx",
        "colab_type": "code",
        "colab": {
          "base_uri": "https://localhost:8080/",
          "height": 357
        },
        "outputId": "df6616ad-e0ba-46b3-f44e-3cb3bd8d1757"
      },
      "source": [
        "X"
      ],
      "execution_count": 9,
      "outputs": [
        {
          "output_type": "execute_result",
          "data": {
            "text/plain": [
              "array([[892],\n",
              "       [893],\n",
              "       [894],\n",
              "       [895],\n",
              "       [896],\n",
              "       [897],\n",
              "       [898],\n",
              "       [899],\n",
              "       [900],\n",
              "       [901],\n",
              "       [902],\n",
              "       [903],\n",
              "       [904],\n",
              "       [905],\n",
              "       [905],\n",
              "       [906],\n",
              "       [907],\n",
              "       [908],\n",
              "       [909],\n",
              "       [910]])"
            ]
          },
          "metadata": {
            "tags": []
          },
          "execution_count": 9
        }
      ]
    },
    {
      "cell_type": "code",
      "metadata": {
        "id": "pGxu9Po5iDe9",
        "colab_type": "code",
        "colab": {
          "base_uri": "https://localhost:8080/",
          "height": 34
        },
        "outputId": "27bab367-2915-4227-9712-bd7c04ae6ef3"
      },
      "source": [
        "Y"
      ],
      "execution_count": 11,
      "outputs": [
        {
          "output_type": "execute_result",
          "data": {
            "text/plain": [
              "array([0, 1, 0, 0, 1, 0, 1, 0, 1, 0, 0, 0, 1, 0, 1, 1, 0, 0, 1, 0])"
            ]
          },
          "metadata": {
            "tags": []
          },
          "execution_count": 11
        }
      ]
    },
    {
      "cell_type": "markdown",
      "metadata": {
        "id": "QXs6YOrO9pcx",
        "colab_type": "text"
      },
      "source": [
        "SPLITTING THE DATASET INTO TRAIN AND TEST SETS"
      ]
    },
    {
      "cell_type": "code",
      "metadata": {
        "id": "OFUfUbl79pcy",
        "colab_type": "code",
        "colab": {}
      },
      "source": [
        "from sklearn.model_selection import train_test_split\n",
        "X_train, X_test, Y_train, Y_test = train_test_split( X, Y, test_size = 1/2, random_state = 0)"
      ],
      "execution_count": 0,
      "outputs": []
    },
    {
      "cell_type": "code",
      "metadata": {
        "id": "tMqmVv_TTDPv",
        "colab_type": "code",
        "colab": {
          "base_uri": "https://localhost:8080/",
          "height": 187
        },
        "outputId": "a3f2634e-54f0-4794-d50a-a52fcff71596"
      },
      "source": [
        "X_test"
      ],
      "execution_count": 15,
      "outputs": [
        {
          "output_type": "execute_result",
          "data": {
            "text/plain": [
              "array([[909],\n",
              "       [893],\n",
              "       [910],\n",
              "       [900],\n",
              "       [902],\n",
              "       [908],\n",
              "       [898],\n",
              "       [905],\n",
              "       [896],\n",
              "       [894]])"
            ]
          },
          "metadata": {
            "tags": []
          },
          "execution_count": 15
        }
      ]
    },
    {
      "cell_type": "code",
      "metadata": {
        "id": "be_bAhJCS5-J",
        "colab_type": "code",
        "colab": {
          "base_uri": "https://localhost:8080/",
          "height": 187
        },
        "outputId": "1bc7fa20-30ec-4ff1-a319-eae019dcf933"
      },
      "source": [
        "X_train"
      ],
      "execution_count": 16,
      "outputs": [
        {
          "output_type": "execute_result",
          "data": {
            "text/plain": [
              "array([[897],\n",
              "       [905],\n",
              "       [901],\n",
              "       [899],\n",
              "       [907],\n",
              "       [903],\n",
              "       [895],\n",
              "       [892],\n",
              "       [906],\n",
              "       [904]])"
            ]
          },
          "metadata": {
            "tags": []
          },
          "execution_count": 16
        }
      ]
    },
    {
      "cell_type": "code",
      "metadata": {
        "id": "GKvwpohQS2Ss",
        "colab_type": "code",
        "colab": {}
      },
      "source": [
        ""
      ],
      "execution_count": 0,
      "outputs": []
    },
    {
      "cell_type": "code",
      "metadata": {
        "id": "CPAYYivU9pc2",
        "colab_type": "code",
        "colab": {}
      },
      "source": [
        "from sklearn.linear_model import LinearRegression\n",
        "regressor = LinearRegression()\n",
        "regressor = regressor.fit(X_train, Y_train)"
      ],
      "execution_count": 0,
      "outputs": []
    },
    {
      "cell_type": "code",
      "metadata": {
        "id": "WYcEcbB59pc6",
        "colab_type": "code",
        "colab": {}
      },
      "source": [
        "Y_pred = regressor.predict(X_test)"
      ],
      "execution_count": 0,
      "outputs": []
    },
    {
      "cell_type": "code",
      "metadata": {
        "id": "UBfIy9J69pc9",
        "colab_type": "code",
        "colab": {
          "base_uri": "https://localhost:8080/",
          "height": 282
        },
        "outputId": "239841a8-1af1-4cab-848b-c28920d5efc0"
      },
      "source": [
        "plt.scatter(X_train , Y_train, color = 'green')\n",
        "plt.plot(X_train , regressor.predict(X_train), color ='yellow')"
      ],
      "execution_count": 22,
      "outputs": [
        {
          "output_type": "execute_result",
          "data": {
            "text/plain": [
              "[<matplotlib.lines.Line2D at 0x7fdec10da7b8>]"
            ]
          },
          "metadata": {
            "tags": []
          },
          "execution_count": 22
        },
        {
          "output_type": "display_data",
          "data": {
            "image/png": "[encoded data removed]",
            "text/plain": [
              "<Figure size 432x288 with 1 Axes>"
            ]
          },
          "metadata": {
            "tags": []
          }
        }
      ]
    },
    {
      "cell_type": "code",
      "metadata": {
        "id": "vg964kWJ9pdB",
        "colab_type": "code",
        "colab": {
          "base_uri": "https://localhost:8080/",
          "height": 282
        },
        "outputId": "e4994d35-f5ea-4074-cf1c-f71fb98b5a4e"
      },
      "source": [
        "plt.scatter(X_test , Y_test, color = 'red')\n",
        "plt.plot(X_test , regressor.predict(X_test), color ='blue')"
      ],
      "execution_count": 23,
      "outputs": [
        {
          "output_type": "execute_result",
          "data": {
            "text/plain": [
              "[<matplotlib.lines.Line2D at 0x7fdebdd24358>]"
            ]
          },
          "metadata": {
            "tags": []
          },
          "execution_count": 23
        },
        {
          "output_type": "display_data",
          "data": {
            "image/png": "[encoded data removed]",
            "text/plain": [
              "<Figure size 432x288 with 1 Axes>"
            ]
          },
          "metadata": {
            "tags": []
          }
        }
      ]
    },
    {
      "cell_type": "code",
      "metadata": {
        "id": "jx6qnMDp9pdF",
        "colab_type": "code",
        "colab": {
          "base_uri": "https://localhost:8080/",
          "height": 51
        },
        "outputId": "35dda266-2449-4a38-a916-7bf698f5217f"
      },
      "source": [
        "from sklearn.metrics import mean_squared_error, r2_score\n",
        "import math\n",
        "print(mean_squared_error(Y_test, Y_pred))\n",
        "print(r2_score(Y_test, Y_pred))"
      ],
      "execution_count": 28,
      "outputs": [
        {
          "output_type": "stream",
          "text": [
            "0.5074895097682538\n",
            "-1.0299580390730152\n"
          ],
          "name": "stdout"
        }
      ]
    },
    {
      "cell_type": "code",
      "metadata": {
        "id": "mIOTQDmx9pdJ",
        "colab_type": "code",
        "colab": {}
      },
      "source": [
        ""
      ],
      "execution_count": 0,
      "outputs": []
    }
  ]
}